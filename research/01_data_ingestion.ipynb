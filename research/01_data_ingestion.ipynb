{
 "cells": [
  {
   "cell_type": "code",
   "execution_count": 1,
   "id": "e86ed4fa",
   "metadata": {},
   "outputs": [],
   "source": [
    "import os"
   ]
  },
  {
   "cell_type": "code",
   "execution_count": 2,
   "id": "9837abd3",
   "metadata": {},
   "outputs": [
    {
     "data": {
      "text/plain": [
       "'e:\\\\Kidney-Disease-Classification-MLflow-DVC\\\\research'"
      ]
     },
     "execution_count": 2,
     "metadata": {},
     "output_type": "execute_result"
    }
   ],
   "source": [
    "%pwd"
   ]
  },
  {
   "cell_type": "code",
   "execution_count": 3,
   "id": "c385a17f",
   "metadata": {},
   "outputs": [],
   "source": [
    "os.chdir(\"../\")"
   ]
  },
  {
   "cell_type": "code",
   "execution_count": 4,
   "id": "7cd61465",
   "metadata": {},
   "outputs": [
    {
     "data": {
      "text/plain": [
       "'e:\\\\Kidney-Disease-Classification-MLflow-DVC'"
      ]
     },
     "execution_count": 4,
     "metadata": {},
     "output_type": "execute_result"
    }
   ],
   "source": [
    "%pwd"
   ]
  },
  {
   "cell_type": "code",
   "execution_count": 5,
   "id": "448580c9",
   "metadata": {},
   "outputs": [],
   "source": [
    "from dataclasses import dataclass\n",
    "from pathlib import Path\n",
    "\n",
    "\n",
    "@dataclass(frozen=True)\n",
    "class DataIngestionConfig:\n",
    "    root_dir: Path\n",
    "    source_URL: str\n",
    "    local_data_file: Path\n",
    "    unzip_dir: Path"
   ]
  },
  {
   "cell_type": "code",
   "execution_count": 22,
   "id": "1c1e5b8a",
   "metadata": {},
   "outputs": [],
   "source": [
    "from kidneyDiseasePrediction.constants.constant_value import *\n",
    "from kidneyDiseasePrediction.utils.common import read_yaml, create_directories"
   ]
  },
  {
   "cell_type": "code",
   "execution_count": 23,
   "id": "3b5a2f0b",
   "metadata": {},
   "outputs": [],
   "source": [
    "class ConfigurationManager:\n",
    "    def __init__(self,\n",
    "                 config_filepath=CONFIG_FILE_PATH,\n",
    "                 params_filepath=PARAMS_FILE_PATH):\n",
    "\n",
    "        self.config = read_yaml(config_filepath)\n",
    "        self.params = read_yaml(params_filepath)\n",
    "\n",
    "        create_directories([self.config.artifacts_root])\n",
    "\n",
    "    \n",
    "    def get_data_ingestion_config(self) -> DataIngestionConfig:\n",
    "        config = self.config.data_ingestion\n",
    "\n",
    "        create_directories([config.root_dir])\n",
    "\n",
    "        data_ingestion_config = DataIngestionConfig(\n",
    "            root_dir=config.root_dir,\n",
    "            source_URL=config.source_URL,\n",
    "            local_data_file=config.local_data_file,\n",
    "            unzip_dir=config.unzip_dir \n",
    "        )\n",
    "\n",
    "        return data_ingestion_config"
   ]
  },
  {
   "cell_type": "code",
   "execution_count": 24,
   "id": "2e3b14de",
   "metadata": {},
   "outputs": [],
   "source": [
    "# Define data ingestion component\n",
    "import os\n",
    "import zipfile\n",
    "import gdown\n",
    "from kidneyDiseasePrediction import logger\n",
    "from kidneyDiseasePrediction.utils.common import get_size"
   ]
  },
  {
   "cell_type": "code",
   "execution_count": 25,
   "id": "cbec5557",
   "metadata": {},
   "outputs": [],
   "source": [
    "class DataIngestion:\n",
    "    def __init__(self, config: DataIngestionConfig):\n",
    "        self.config = config\n",
    "    \n",
    "    def download_file(self) -> str:\n",
    "        '''\n",
    "            Fetch data from the url\n",
    "        '''\n",
    "        try:\n",
    "            dataset_url = self.config.source_URL\n",
    "            zip_download_dir = self.config.local_data_file\n",
    "            \n",
    "            os.makedirs(\"artifacts/data_ingestion\", exist_ok=True)\n",
    "            logger.info(f\"Downloading file from {dataset_url} to {zip_download_dir}\")\n",
    "            \n",
    "            drive_unique_file_id = dataset_url.split(\"/\")[-2]\n",
    "            \n",
    "            download_prefix_url = \"https://drive.google.com/uc?export=download&id=\"\n",
    "            gdown.download(download_prefix_url + drive_unique_file_id, zip_download_dir)\n",
    "            \n",
    "            logger.info(f\"Downloaded file from {dataset_url} to {zip_download_dir}\")\n",
    "        \n",
    "        except Exception as e:\n",
    "            raise e\n",
    "        \n",
    "    def extract_zip_file(self) -> None:\n",
    "        \"\"\"\n",
    "            zip file path: str\n",
    "            Extracts the zip file into the data directory\n",
    "            Function returns None\n",
    "        \"\"\"\n",
    "        unzip_path = self.config.unzip_dir\n",
    "        os.makedirs(unzip_path, exist_ok=True)\n",
    "        with zipfile.ZipFile(self.config.local_data_file, 'r') as zip_ref:\n",
    "            zip_ref.extractall(unzip_path)\n",
    "        "
   ]
  },
  {
   "cell_type": "code",
   "execution_count": 26,
   "id": "8f68623c",
   "metadata": {},
   "outputs": [
    {
     "name": "stdout",
     "output_type": "stream",
     "text": [
      "[2025-10-05 00:56:18,462 : INFO : common  : yaml file: config\\config.yaml loaded successfully]\n",
      "[2025-10-05 00:56:18,479 : INFO : common  : yaml file: params.yaml loaded successfully]\n",
      "[2025-10-05 00:56:18,484 : INFO : common  : Created directory at: artifacts]\n",
      "[2025-10-05 00:56:18,486 : INFO : common  : Created directory at: artifacts/data_ingestion]\n",
      "[2025-10-05 00:56:18,488 : INFO : 1863740088  : Downloading file from https://drive.google.com/file/d/14t1ssholE612Q2eIrxif90J9kjw6-Hyr/view?usp=sharing to artifacts/data_ingestion/data.zip]\n"
     ]
    },
    {
     "name": "stderr",
     "output_type": "stream",
     "text": [
      "Downloading...\n",
      "From (original): https://drive.google.com/uc?export=download&id=14t1ssholE612Q2eIrxif90J9kjw6-Hyr\n",
      "From (redirected): https://drive.google.com/uc?export=download&id=14t1ssholE612Q2eIrxif90J9kjw6-Hyr&confirm=t&uuid=23f4b6e7-ec13-46bc-96f2-597dbae2a9d4\n",
      "To: e:\\Kidney-Disease-Classification-MLflow-DVC\\artifacts\\data_ingestion\\data.zip\n",
      "100%|██████████| 46.6M/46.6M [00:04<00:00, 9.80MB/s]\n"
     ]
    },
    {
     "name": "stdout",
     "output_type": "stream",
     "text": [
      "[2025-10-05 00:56:27,251 : INFO : 1863740088  : Downloaded file from https://drive.google.com/file/d/14t1ssholE612Q2eIrxif90J9kjw6-Hyr/view?usp=sharing to artifacts/data_ingestion/data.zip]\n"
     ]
    }
   ],
   "source": [
    "# Define the Data Ingestion Pipeline\n",
    "try:\n",
    "    config = ConfigurationManager()\n",
    "    data_ingestion_config = config.get_data_ingestion_config()\n",
    "\n",
    "    data_ingestion = DataIngestion(config=data_ingestion_config)\n",
    "    data_ingestion.download_file()\n",
    "    data_ingestion.extract_zip_file()\n",
    "except Exception as e:\n",
    "    raise e"
   ]
  },
  {
   "cell_type": "code",
   "execution_count": null,
   "id": "5c172c4e",
   "metadata": {},
   "outputs": [],
   "source": []
  }
 ],
 "metadata": {
  "kernelspec": {
   "display_name": "kidneyEnv",
   "language": "python",
   "name": "python3"
  },
  "language_info": {
   "codemirror_mode": {
    "name": "ipython",
    "version": 3
   },
   "file_extension": ".py",
   "mimetype": "text/x-python",
   "name": "python",
   "nbconvert_exporter": "python",
   "pygments_lexer": "ipython3",
   "version": "3.12.7"
  }
 },
 "nbformat": 4,
 "nbformat_minor": 5
}
